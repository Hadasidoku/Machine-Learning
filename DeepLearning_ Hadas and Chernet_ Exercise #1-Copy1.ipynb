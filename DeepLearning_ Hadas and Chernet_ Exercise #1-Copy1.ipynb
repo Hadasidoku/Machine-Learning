{
 "cells": [
  {
   "cell_type": "markdown",
   "id": "f23615f4",
   "metadata": {},
   "source": [
    "# Deep Learning Exercise #1 _ Hadas Halperin: 315679225 & Chernet Maru: 327441440\n"
   ]
  },
  {
   "cell_type": "markdown",
   "id": "db6c7a8a",
   "metadata": {},
   "source": [
    "### Installing packages, list installed packages, upgrade package."
   ]
  },
  {
   "cell_type": "code",
   "execution_count": 9,
   "id": "8bc9becc",
   "metadata": {},
   "outputs": [
    {
     "name": "stdout",
     "output_type": "stream",
     "text": [
      "Requirement already satisfied: tensorflow in c:\\users\\hadasidoku\\anaconda3\\lib\\site-packages (2.7.0)\n",
      "Requirement already satisfied: tensorflow-estimator<2.8,~=2.7.0rc0 in c:\\users\\hadasidoku\\anaconda3\\lib\\site-packages (from tensorflow) (2.7.0)\n",
      "Requirement already satisfied: six>=1.12.0 in c:\\users\\hadasidoku\\anaconda3\\lib\\site-packages (from tensorflow) (1.16.0)\n",
      "Requirement already satisfied: astunparse>=1.6.0 in c:\\users\\hadasidoku\\anaconda3\\lib\\site-packages (from tensorflow) (1.6.3)\n",
      "Requirement already satisfied: grpcio<2.0,>=1.24.3 in c:\\users\\hadasidoku\\anaconda3\\lib\\site-packages (from tensorflow) (1.42.0)\n",
      "Requirement already satisfied: tensorboard~=2.6 in c:\\users\\hadasidoku\\anaconda3\\lib\\site-packages (from tensorflow) (2.7.0)\n",
      "Requirement already satisfied: keras<2.8,>=2.7.0rc0 in c:\\users\\hadasidoku\\anaconda3\\lib\\site-packages (from tensorflow) (2.7.0)\n",
      "Requirement already satisfied: gast<0.5.0,>=0.2.1 in c:\\users\\hadasidoku\\anaconda3\\lib\\site-packages (from tensorflow) (0.4.0)\n",
      "Requirement already satisfied: wheel<1.0,>=0.32.0 in c:\\users\\hadasidoku\\anaconda3\\lib\\site-packages (from tensorflow) (0.37.0)\n",
      "Requirement already satisfied: protobuf>=3.9.2 in c:\\users\\hadasidoku\\anaconda3\\lib\\site-packages (from tensorflow) (3.19.1)\n",
      "Requirement already satisfied: numpy>=1.14.5 in c:\\users\\hadasidoku\\anaconda3\\lib\\site-packages (from tensorflow) (1.20.3)\n",
      "Requirement already satisfied: termcolor>=1.1.0 in c:\\users\\hadasidoku\\anaconda3\\lib\\site-packages (from tensorflow) (1.1.0)\n",
      "Requirement already satisfied: h5py>=2.9.0 in c:\\users\\hadasidoku\\anaconda3\\lib\\site-packages (from tensorflow) (3.2.1)\n",
      "Requirement already satisfied: wrapt>=1.11.0 in c:\\users\\hadasidoku\\anaconda3\\lib\\site-packages (from tensorflow) (1.12.1)\n",
      "Requirement already satisfied: typing-extensions>=3.6.6 in c:\\users\\hadasidoku\\anaconda3\\lib\\site-packages (from tensorflow) (3.10.0.2)\n",
      "Requirement already satisfied: absl-py>=0.4.0 in c:\\users\\hadasidoku\\anaconda3\\lib\\site-packages (from tensorflow) (1.0.0)\n",
      "Requirement already satisfied: opt-einsum>=2.3.2 in c:\\users\\hadasidoku\\anaconda3\\lib\\site-packages (from tensorflow) (3.3.0)\n",
      "Requirement already satisfied: keras-preprocessing>=1.1.1 in c:\\users\\hadasidoku\\anaconda3\\lib\\site-packages (from tensorflow) (1.1.2)\n",
      "Requirement already satisfied: libclang>=9.0.1 in c:\\users\\hadasidoku\\anaconda3\\lib\\site-packages (from tensorflow) (12.0.0)\n",
      "Requirement already satisfied: tensorflow-io-gcs-filesystem>=0.21.0 in c:\\users\\hadasidoku\\anaconda3\\lib\\site-packages (from tensorflow) (0.22.0)\n",
      "Requirement already satisfied: flatbuffers<3.0,>=1.12 in c:\\users\\hadasidoku\\anaconda3\\lib\\site-packages (from tensorflow) (2.0)\n",
      "Requirement already satisfied: google-pasta>=0.1.1 in c:\\users\\hadasidoku\\anaconda3\\lib\\site-packages (from tensorflow) (0.2.0)\n",
      "Requirement already satisfied: tensorboard-data-server<0.7.0,>=0.6.0 in c:\\users\\hadasidoku\\anaconda3\\lib\\site-packages (from tensorboard~=2.6->tensorflow) (0.6.1)\n",
      "Requirement already satisfied: requests<3,>=2.21.0 in c:\\users\\hadasidoku\\anaconda3\\lib\\site-packages (from tensorboard~=2.6->tensorflow) (2.26.0)\n",
      "Requirement already satisfied: google-auth<3,>=1.6.3 in c:\\users\\hadasidoku\\anaconda3\\lib\\site-packages (from tensorboard~=2.6->tensorflow) (2.3.3)\n",
      "Requirement already satisfied: werkzeug>=0.11.15 in c:\\users\\hadasidoku\\anaconda3\\lib\\site-packages (from tensorboard~=2.6->tensorflow) (2.0.2)\n",
      "Requirement already satisfied: google-auth-oauthlib<0.5,>=0.4.1 in c:\\users\\hadasidoku\\anaconda3\\lib\\site-packages (from tensorboard~=2.6->tensorflow) (0.4.6)\n",
      "Requirement already satisfied: setuptools>=41.0.0 in c:\\users\\hadasidoku\\anaconda3\\lib\\site-packages (from tensorboard~=2.6->tensorflow) (58.0.4)\n",
      "Requirement already satisfied: markdown>=2.6.8 in c:\\users\\hadasidoku\\anaconda3\\lib\\site-packages (from tensorboard~=2.6->tensorflow) (3.3.6)\n",
      "Requirement already satisfied: tensorboard-plugin-wit>=1.6.0 in c:\\users\\hadasidoku\\anaconda3\\lib\\site-packages (from tensorboard~=2.6->tensorflow) (1.8.0)\n",
      "Requirement already satisfied: rsa<5,>=3.1.4 in c:\\users\\hadasidoku\\anaconda3\\lib\\site-packages (from google-auth<3,>=1.6.3->tensorboard~=2.6->tensorflow) (4.8)\n",
      "Requirement already satisfied: cachetools<5.0,>=2.0.0 in c:\\users\\hadasidoku\\anaconda3\\lib\\site-packages (from google-auth<3,>=1.6.3->tensorboard~=2.6->tensorflow) (4.2.4)\n",
      "Requirement already satisfied: pyasn1-modules>=0.2.1 in c:\\users\\hadasidoku\\anaconda3\\lib\\site-packages (from google-auth<3,>=1.6.3->tensorboard~=2.6->tensorflow) (0.2.8)\n",
      "Requirement already satisfied: requests-oauthlib>=0.7.0 in c:\\users\\hadasidoku\\anaconda3\\lib\\site-packages (from google-auth-oauthlib<0.5,>=0.4.1->tensorboard~=2.6->tensorflow) (1.3.0)\n",
      "Requirement already satisfied: importlib-metadata>=4.4 in c:\\users\\hadasidoku\\anaconda3\\lib\\site-packages (from markdown>=2.6.8->tensorboard~=2.6->tensorflow) (4.8.1)\n",
      "Requirement already satisfied: zipp>=0.5 in c:\\users\\hadasidoku\\anaconda3\\lib\\site-packages (from importlib-metadata>=4.4->markdown>=2.6.8->tensorboard~=2.6->tensorflow) (3.6.0)\n",
      "Requirement already satisfied: pyasn1<0.5.0,>=0.4.6 in c:\\users\\hadasidoku\\anaconda3\\lib\\site-packages (from pyasn1-modules>=0.2.1->google-auth<3,>=1.6.3->tensorboard~=2.6->tensorflow) (0.4.8)\n",
      "Requirement already satisfied: idna<4,>=2.5 in c:\\users\\hadasidoku\\anaconda3\\lib\\site-packages (from requests<3,>=2.21.0->tensorboard~=2.6->tensorflow) (3.2)\n",
      "Requirement already satisfied: urllib3<1.27,>=1.21.1 in c:\\users\\hadasidoku\\anaconda3\\lib\\site-packages (from requests<3,>=2.21.0->tensorboard~=2.6->tensorflow) (1.26.7)\n",
      "Requirement already satisfied: certifi>=2017.4.17 in c:\\users\\hadasidoku\\anaconda3\\lib\\site-packages (from requests<3,>=2.21.0->tensorboard~=2.6->tensorflow) (2021.10.8)\n",
      "Requirement already satisfied: charset-normalizer~=2.0.0 in c:\\users\\hadasidoku\\anaconda3\\lib\\site-packages (from requests<3,>=2.21.0->tensorboard~=2.6->tensorflow) (2.0.4)\n",
      "Requirement already satisfied: oauthlib>=3.0.0 in c:\\users\\hadasidoku\\anaconda3\\lib\\site-packages (from requests-oauthlib>=0.7.0->google-auth-oauthlib<0.5,>=0.4.1->tensorboard~=2.6->tensorflow) (3.1.1)\n"
     ]
    }
   ],
   "source": [
    "!pip install tensorflow"
   ]
  },
  {
   "cell_type": "code",
   "execution_count": 10,
   "id": "326a7737",
   "metadata": {},
   "outputs": [
    {
     "name": "stdout",
     "output_type": "stream",
     "text": [
      "Requirement already satisfied: matplotlib in c:\\users\\hadasidoku\\anaconda3\\lib\\site-packages (3.4.3)\n",
      "Requirement already satisfied: python-dateutil>=2.7 in c:\\users\\hadasidoku\\anaconda3\\lib\\site-packages (from matplotlib) (2.8.2)\n",
      "Requirement already satisfied: pillow>=6.2.0 in c:\\users\\hadasidoku\\anaconda3\\lib\\site-packages (from matplotlib) (8.4.0)\n",
      "Requirement already satisfied: cycler>=0.10 in c:\\users\\hadasidoku\\anaconda3\\lib\\site-packages (from matplotlib) (0.10.0)\n",
      "Requirement already satisfied: numpy>=1.16 in c:\\users\\hadasidoku\\anaconda3\\lib\\site-packages (from matplotlib) (1.20.3)\n",
      "Requirement already satisfied: pyparsing>=2.2.1 in c:\\users\\hadasidoku\\anaconda3\\lib\\site-packages (from matplotlib) (3.0.4)\n",
      "Requirement already satisfied: kiwisolver>=1.0.1 in c:\\users\\hadasidoku\\anaconda3\\lib\\site-packages (from matplotlib) (1.3.1)\n",
      "Requirement already satisfied: six in c:\\users\\hadasidoku\\anaconda3\\lib\\site-packages (from cycler>=0.10->matplotlib) (1.16.0)\n"
     ]
    }
   ],
   "source": [
    "!pip install matplotlib"
   ]
  },
  {
   "cell_type": "code",
   "execution_count": 8,
   "id": "828f694c",
   "metadata": {},
   "outputs": [
    {
     "name": "stdout",
     "output_type": "stream",
     "text": [
      "Requirement already satisfied: sklearn in c:\\users\\hadasidoku\\anaconda3\\lib\\site-packages (0.0)\n",
      "Requirement already satisfied: scikit-learn in c:\\users\\hadasidoku\\anaconda3\\lib\\site-packages (from sklearn) (0.24.2)\n",
      "Requirement already satisfied: numpy>=1.13.3 in c:\\users\\hadasidoku\\anaconda3\\lib\\site-packages (from scikit-learn->sklearn) (1.20.3)\n",
      "Requirement already satisfied: threadpoolctl>=2.0.0 in c:\\users\\hadasidoku\\anaconda3\\lib\\site-packages (from scikit-learn->sklearn) (2.2.0)\n",
      "Requirement already satisfied: scipy>=0.19.1 in c:\\users\\hadasidoku\\anaconda3\\lib\\site-packages (from scikit-learn->sklearn) (1.7.1)\n",
      "Requirement already satisfied: joblib>=0.11 in c:\\users\\hadasidoku\\anaconda3\\lib\\site-packages (from scikit-learn->sklearn) (1.1.0)\n"
     ]
    }
   ],
   "source": [
    "!pip install sklearn"
   ]
  },
  {
   "cell_type": "code",
   "execution_count": 1,
   "id": "ce70ac1e",
   "metadata": {},
   "outputs": [
    {
     "name": "stderr",
     "output_type": "stream",
     "text": [
      "ERROR: Could not find a version that satisfies the requirement os (from versions: none)\n",
      "ERROR: No matching distribution found for os\n"
     ]
    }
   ],
   "source": [
    "!pip install os"
   ]
  },
  {
   "cell_type": "markdown",
   "id": "31abfcef",
   "metadata": {},
   "source": [
    "### importing libraries"
   ]
  },
  {
   "cell_type": "code",
   "execution_count": 2,
   "id": "7e07c3db",
   "metadata": {},
   "outputs": [],
   "source": [
    "import tensorflow as tf\n",
    "import numpy as np\n",
    "import matplotlib.pyplot as plt\n",
    "import os\n",
    "from tensorflow.keras.models import Sequential\n",
    "from tensorflow.keras.layers import Dense, Flatten\n",
    "from tensorflow.keras.preprocessing.image import ImageDataGenerator\n",
    "from tensorflow.keras.optimizers import Adam\n",
    "import keras\n",
    "from keras import optimizers\n",
    "import matplotlib.pyplot as plt\n",
    "from tensorflow.keras import datasets, layers, models\n",
    "from keras.layers import Activation\n",
    "from keras.models import Sequential\n",
    "from keras.layers import Conv2D\n",
    "from keras.layers import MaxPooling2D\n",
    "from keras.layers import Flatten\n",
    "from keras.layers import Dense\n",
    "from keras.preprocessing.image import ImageDataGenerator, load_img\n",
    "from sklearn.metrics import classification_report, confusion_matrix\n"
   ]
  },
  {
   "cell_type": "markdown",
   "id": "47bf9a41",
   "metadata": {},
   "source": [
    "### Extracting Files From Folders and Number Length Validation"
   ]
  },
  {
   "cell_type": "code",
   "execution_count": 5,
   "id": "4d340c64",
   "metadata": {},
   "outputs": [
    {
     "name": "stdout",
     "output_type": "stream",
     "text": [
      "In train folder we have 1341 normal pictures and Pneumonia: 3875 pictures\n",
      "In test folder we have  234 pictures, and as for Pneumonia: 390 pictures\n",
      "So, in train folder we have in total:  5216\n",
      "and in test folder we have in total: 624\n"
     ]
    }
   ],
   "source": [
    "Read_from_path = r'C:\\Users\\Hadasidoku\\Desktop\\deep learning project\\chest_xray\\chest_xray' #Files are instored internally\n",
    "\n",
    "Read_Train_Folder = os.path.join(Read_from_path, 'train')\n",
    "Read_Validation_Folder = os.path.join(Read_from_path, 'val')\n",
    "Read_Test_Folder = os.path.join(Read_from_path, 'test')\n",
    "\n",
    "#Extract the path of Positive and Negative Folders of Train and Test (we want to devide later the train to validation&train)\n",
    "Read_Pos_Train_Folder = os.path.join(Read_Train_Folder, 'PNEUMONIA')\n",
    "Read_Neg_Train_folder = os.path.join(Read_Train_Folder, 'NORMAL')\n",
    "Read_Pos_Test_folder = os.path.join(Read_Test_Folder, 'PNEUMONIA')\n",
    "Read_Neg_Test_folder = os.path.join(Read_Test_Folder, 'NORMAL')\n",
    "\n",
    "# Extracting file's names from path \n",
    "Train_Pneumonia_Files = os.listdir(Read_Pos_Train_Folder)\n",
    "Train_Normal_Files = os.listdir(Read_Neg_Train_folder)\n",
    "Test_Pneumonia_Files = os.listdir(Read_Pos_Test_folder)\n",
    "Test_Normal_Files = os.listdir(Read_Neg_Test_folder)\n",
    "\n",
    "# How many files do we have? \n",
    "print (\"In train folder we have\",len(Train_Normal_Files),\"normal pictures\", \"and Pneumonia:\" , len(Train_Pneumonia_Files),\"pictures\")\n",
    "print (\"In test folder we have \",len(Test_Normal_Files), \"pictures, and as for Pneumonia:\" , len(Test_Pneumonia_Files),\"pictures\")\n",
    "print(\"So, in train folder we have in total: \", len(Train_Pneumonia_Files+Train_Normal_Files))\n",
    "print(\"and in test folder we have in total:\", len(Test_Pneumonia_Files+Test_Normal_Files))"
   ]
  },
  {
   "cell_type": "markdown",
   "id": "598d6188",
   "metadata": {},
   "source": [
    "### Section number A"
   ]
  },
  {
   "cell_type": "code",
   "execution_count": 14,
   "id": "5efad043",
   "metadata": {},
   "outputs": [
    {
     "name": "stdout",
     "output_type": "stream",
     "text": [
      "Found 5216 files belonging to 2 classes.\n",
      "Using 4695 files for training.\n",
      "Found 5216 files belonging to 2 classes.\n",
      "Using 521 files for validation.\n",
      "Found 5216 images belonging to 2 classes.\n",
      "Found 624 images belonging to 2 classes.\n",
      "Found 16 images belonging to 2 classes.\n",
      "Image shape is:  (224, 224, 1)\n",
      "Train batch size is 261\n",
      "Test batch size is 32\n",
      "Classes list:  {'NORMAL': 0, 'PNEUMONIA': 1}\n",
      "Number of classes model is :  2\n"
     ]
    }
   ],
   "source": [
    "BATCH_SIZE=20\n",
    "\n",
    "# Normalization\n",
    "\n",
    "Train_Normalize = ImageDataGenerator(rescale=1./255)\n",
    "Test_Normalize = ImageDataGenerator(rescale=1./255)\n",
    "Val_Normalize = ImageDataGenerator(rescale=1./255)\n",
    "\n",
    "# Redefine names\n",
    "train_directory=Read_Train_Folder\n",
    "test_directory=Read_Test_Folder\n",
    "val_directory=Read_Validation_Folder\n",
    "\n",
    "\n",
    "\n",
    "# Deviding the training folder to train & validation\n",
    "train_data = tf.keras.utils.image_dataset_from_directory(\n",
    "    train_directory, seed=3, validation_split=0.1, subset='training')\n",
    "    \n",
    "val_data = tf.keras.utils.image_dataset_from_directory(\n",
    "    train_directory, seed=3, validation_split=0.1, subset='validation')\n",
    "\n",
    "# resizing and dividing to batches\n",
    "Train_Data=Train_Normalize.flow_from_directory(train_directory, target_size=(224,224),class_mode='binary', batch_size= BATCH_SIZE, color_mode='grayscale')\n",
    "Test_Data=Test_Normalize.flow_from_directory(test_directory, target_size=(224,224),class_mode='binary',batch_size= BATCH_SIZE, color_mode='grayscale')\n",
    "Val_Data=Val_Normalize.flow_from_directory(val_directory, target_size=(224,224),class_mode='binary', batch_size= 2, color_mode='grayscale')\n",
    "\n",
    "# Validate the shape and batch size\n",
    "print('Image shape is: ',Test_Data.image_shape)\n",
    "print('Train batch size is',len(Train_Data))\n",
    "print('Test batch size is',len(Test_Data))\n",
    "print(\"Classes list: \",Train_Data.class_indices)\n",
    "print(\"Number of classes model is : \",Train_Data.num_classes)"
   ]
  },
  {
   "cell_type": "markdown",
   "id": "b5e7c612",
   "metadata": {},
   "source": [
    "### Model Configuration"
   ]
  },
  {
   "cell_type": "code",
   "execution_count": 12,
   "id": "b7f160ec",
   "metadata": {},
   "outputs": [
    {
     "name": "stdout",
     "output_type": "stream",
     "text": [
      "Model: \"my_sequential\"\n",
      "_________________________________________________________________\n",
      " Layer (type)                Output Shape              Param #   \n",
      "=================================================================\n",
      " flatten (Flatten)           (None, 50176)             0         \n",
      "                                                                 \n",
      " Dense1 (Dense)              (None, 64)                3211328   \n",
      "                                                                 \n",
      " Dense2 (Dense)              (None, 64)                4160      \n",
      "                                                                 \n",
      " Dense3 (Dense)              (None, 64)                4160      \n",
      "                                                                 \n",
      " Dense4 (Dense)              (None, 32)                2080      \n",
      "                                                                 \n",
      " Dense5 (Dense)              (None, 1)                 33        \n",
      "                                                                 \n",
      "=================================================================\n",
      "Total params: 3,221,761\n",
      "Trainable params: 3,221,761\n",
      "Non-trainable params: 0\n",
      "_________________________________________________________________\n"
     ]
    }
   ],
   "source": [
    "model = keras.Sequential(name=\"my_sequential\")\n",
    "model.add(layers.Flatten(input_shape=(224,224,1)))\n",
    "model.add(layers.Dense(64, activation='relu', name='Dense1'))\n",
    "model.add(layers.Dense(64, activation='relu', name='Dense2'))\n",
    "model.add(layers.Dense(64, activation='relu', name='Dense3'))\n",
    "model.add(layers.Dense(32, activation='elu', name='Dense4'))\n",
    "model.add(layers.Dense(1, activation='sigmoid', name='Dense5'))\n",
    "model.summary()"
   ]
  },
  {
   "cell_type": "code",
   "execution_count": 17,
   "id": "d7cff7b8",
   "metadata": {},
   "outputs": [],
   "source": [
    "model.compile(loss='binary_crossentropy', optimizer = Adam(learning_rate=1e-6), metrics=['accuracy'])"
   ]
  },
  {
   "cell_type": "markdown",
   "id": "428c115c",
   "metadata": {},
   "source": [
    "### Section number B"
   ]
  },
  {
   "cell_type": "code",
   "execution_count": 16,
   "id": "33ff0245",
   "metadata": {},
   "outputs": [
    {
     "name": "stdout",
     "output_type": "stream",
     "text": [
      "Epoch 1/70\n",
      "261/261 [==============================] - 125s 472ms/step - loss: 0.5161 - accuracy: 0.7488 - val_loss: 0.7505 - val_accuracy: 0.5000\n",
      "Epoch 2/70\n",
      "261/261 [==============================] - 97s 372ms/step - loss: 0.4033 - accuracy: 0.8282 - val_loss: 0.6359 - val_accuracy: 0.6250\n",
      "Epoch 3/70\n",
      "261/261 [==============================] - 98s 374ms/step - loss: 0.3464 - accuracy: 0.8763 - val_loss: 0.5999 - val_accuracy: 0.6875\n",
      "Epoch 4/70\n",
      "261/261 [==============================] - 97s 373ms/step - loss: 0.3095 - accuracy: 0.8949 - val_loss: 0.6049 - val_accuracy: 0.6875\n",
      "Epoch 5/70\n",
      "261/261 [==============================] - 96s 368ms/step - loss: 0.2830 - accuracy: 0.9049 - val_loss: 0.5981 - val_accuracy: 0.6875\n",
      "Epoch 6/70\n",
      "261/261 [==============================] - 97s 372ms/step - loss: 0.2639 - accuracy: 0.9105 - val_loss: 0.5281 - val_accuracy: 0.8125\n",
      "Epoch 7/70\n",
      "261/261 [==============================] - 97s 371ms/step - loss: 0.2472 - accuracy: 0.9193 - val_loss: 0.5416 - val_accuracy: 0.8125\n",
      "Epoch 8/70\n",
      "261/261 [==============================] - 97s 372ms/step - loss: 0.2332 - accuracy: 0.9245 - val_loss: 0.4967 - val_accuracy: 0.8125\n",
      "Epoch 9/70\n",
      "261/261 [==============================] - 98s 377ms/step - loss: 0.2228 - accuracy: 0.9279 - val_loss: 0.4940 - val_accuracy: 0.8125\n",
      "Epoch 10/70\n",
      "261/261 [==============================] - 97s 373ms/step - loss: 0.2120 - accuracy: 0.9314 - val_loss: 0.4531 - val_accuracy: 0.8125\n",
      "Epoch 11/70\n",
      "261/261 [==============================] - 105s 404ms/step - loss: 0.2043 - accuracy: 0.9342 - val_loss: 0.4766 - val_accuracy: 0.8125\n",
      "Epoch 12/70\n",
      "261/261 [==============================] - 104s 400ms/step - loss: 0.1956 - accuracy: 0.9379 - val_loss: 0.4882 - val_accuracy: 0.8125\n",
      "Epoch 13/70\n",
      "261/261 [==============================] - 104s 398ms/step - loss: 0.1894 - accuracy: 0.9394 - val_loss: 0.4604 - val_accuracy: 0.8125\n",
      "Epoch 14/70\n",
      "261/261 [==============================] - 103s 396ms/step - loss: 0.1825 - accuracy: 0.9431 - val_loss: 0.4420 - val_accuracy: 0.8125\n",
      "Epoch 15/70\n",
      "261/261 [==============================] - 103s 393ms/step - loss: 0.1776 - accuracy: 0.9408 - val_loss: 0.4222 - val_accuracy: 0.8125\n",
      "Epoch 16/70\n",
      "261/261 [==============================] - 107s 412ms/step - loss: 0.1725 - accuracy: 0.9419 - val_loss: 0.4523 - val_accuracy: 0.8125\n",
      "Epoch 17/70\n",
      "261/261 [==============================] - 102s 392ms/step - loss: 0.1682 - accuracy: 0.9450 - val_loss: 0.4087 - val_accuracy: 0.8125\n",
      "Epoch 18/70\n",
      "261/261 [==============================] - 101s 386ms/step - loss: 0.1635 - accuracy: 0.9467 - val_loss: 0.4160 - val_accuracy: 0.8125\n",
      "Epoch 19/70\n",
      "261/261 [==============================] - 101s 386ms/step - loss: 0.1603 - accuracy: 0.9471 - val_loss: 0.4275 - val_accuracy: 0.8125\n",
      "Epoch 20/70\n",
      "261/261 [==============================] - 105s 403ms/step - loss: 0.1577 - accuracy: 0.9471 - val_loss: 0.3950 - val_accuracy: 0.8125\n",
      "Epoch 21/70\n",
      "261/261 [==============================] - 104s 397ms/step - loss: 0.1543 - accuracy: 0.9488 - val_loss: 0.4360 - val_accuracy: 0.8125\n",
      "Epoch 22/70\n",
      "261/261 [==============================] - 102s 389ms/step - loss: 0.1515 - accuracy: 0.9484 - val_loss: 0.3602 - val_accuracy: 0.8750\n",
      "Epoch 23/70\n",
      "261/261 [==============================] - 102s 389ms/step - loss: 0.1476 - accuracy: 0.9494 - val_loss: 0.3940 - val_accuracy: 0.8125\n",
      "Epoch 24/70\n",
      "261/261 [==============================] - 100s 384ms/step - loss: 0.1452 - accuracy: 0.9513 - val_loss: 0.4072 - val_accuracy: 0.8125\n",
      "Epoch 25/70\n",
      "261/261 [==============================] - 100s 384ms/step - loss: 0.1424 - accuracy: 0.9519 - val_loss: 0.3441 - val_accuracy: 0.8750\n",
      "Epoch 26/70\n",
      "261/261 [==============================] - 104s 400ms/step - loss: 0.1408 - accuracy: 0.9534 - val_loss: 0.3782 - val_accuracy: 0.8125\n",
      "Epoch 27/70\n",
      "261/261 [==============================] - 103s 395ms/step - loss: 0.1394 - accuracy: 0.9521 - val_loss: 0.3818 - val_accuracy: 0.8125\n",
      "Epoch 28/70\n",
      "261/261 [==============================] - 101s 387ms/step - loss: 0.1367 - accuracy: 0.9534 - val_loss: 0.3655 - val_accuracy: 0.8125\n",
      "Epoch 29/70\n",
      "261/261 [==============================] - 104s 397ms/step - loss: 0.1348 - accuracy: 0.9549 - val_loss: 0.3211 - val_accuracy: 0.8750\n",
      "Epoch 30/70\n",
      "261/261 [==============================] - 105s 402ms/step - loss: 0.1336 - accuracy: 0.9559 - val_loss: 0.3377 - val_accuracy: 0.8750\n",
      "Epoch 31/70\n",
      "261/261 [==============================] - 103s 394ms/step - loss: 0.1318 - accuracy: 0.9549 - val_loss: 0.3661 - val_accuracy: 0.8125\n",
      "Epoch 32/70\n",
      "261/261 [==============================] - 106s 407ms/step - loss: 0.1304 - accuracy: 0.9563 - val_loss: 0.3202 - val_accuracy: 0.8750\n",
      "Epoch 33/70\n",
      "261/261 [==============================] - 109s 415ms/step - loss: 0.1293 - accuracy: 0.9555 - val_loss: 0.3560 - val_accuracy: 0.8125\n",
      "Epoch 34/70\n",
      "261/261 [==============================] - 105s 402ms/step - loss: 0.1273 - accuracy: 0.9569 - val_loss: 0.3214 - val_accuracy: 0.8750\n",
      "Epoch 35/70\n",
      "261/261 [==============================] - 103s 396ms/step - loss: 0.1264 - accuracy: 0.9565 - val_loss: 0.3865 - val_accuracy: 0.8125\n",
      "Epoch 36/70\n",
      "261/261 [==============================] - 99s 379ms/step - loss: 0.1254 - accuracy: 0.9586 - val_loss: 0.3771 - val_accuracy: 0.8125\n",
      "Epoch 37/70\n",
      "261/261 [==============================] - 99s 379ms/step - loss: 0.1240 - accuracy: 0.9572 - val_loss: 0.3718 - val_accuracy: 0.8125\n",
      "Epoch 38/70\n",
      "261/261 [==============================] - 99s 380ms/step - loss: 0.1233 - accuracy: 0.9578 - val_loss: 0.3769 - val_accuracy: 0.8125\n",
      "Epoch 39/70\n",
      "261/261 [==============================] - 44s 166ms/step - loss: 0.1221 - accuracy: 0.9590 - val_loss: 0.3307 - val_accuracy: 0.8125\n",
      "Epoch 40/70\n",
      "261/261 [==============================] - 41s 158ms/step - loss: 0.1209 - accuracy: 0.9572 - val_loss: 0.3480 - val_accuracy: 0.8125\n",
      "Epoch 41/70\n",
      "261/261 [==============================] - 41s 159ms/step - loss: 0.1200 - accuracy: 0.9582 - val_loss: 0.3099 - val_accuracy: 0.8125\n",
      "Epoch 42/70\n",
      "261/261 [==============================] - 42s 160ms/step - loss: 0.1191 - accuracy: 0.9592 - val_loss: 0.3198 - val_accuracy: 0.8125\n",
      "Epoch 43/70\n",
      "261/261 [==============================] - 42s 160ms/step - loss: 0.1177 - accuracy: 0.9617 - val_loss: 0.3894 - val_accuracy: 0.8125\n",
      "Epoch 44/70\n",
      "261/261 [==============================] - 42s 162ms/step - loss: 0.1176 - accuracy: 0.9595 - val_loss: 0.3872 - val_accuracy: 0.8125\n",
      "Epoch 45/70\n",
      "261/261 [==============================] - 46s 176ms/step - loss: 0.1169 - accuracy: 0.9586 - val_loss: 0.3609 - val_accuracy: 0.8125\n",
      "Epoch 46/70\n",
      "261/261 [==============================] - 48s 183ms/step - loss: 0.1157 - accuracy: 0.9592 - val_loss: 0.3212 - val_accuracy: 0.8125\n",
      "Epoch 47/70\n",
      "261/261 [==============================] - 43s 164ms/step - loss: 0.1148 - accuracy: 0.9601 - val_loss: 0.2778 - val_accuracy: 0.9375\n",
      "Epoch 48/70\n",
      "261/261 [==============================] - 43s 163ms/step - loss: 0.1150 - accuracy: 0.9588 - val_loss: 0.2864 - val_accuracy: 0.9375\n",
      "Epoch 49/70\n",
      "261/261 [==============================] - 43s 163ms/step - loss: 0.1131 - accuracy: 0.9601 - val_loss: 0.3129 - val_accuracy: 0.8125\n",
      "Epoch 50/70\n",
      "261/261 [==============================] - 42s 162ms/step - loss: 0.1124 - accuracy: 0.9595 - val_loss: 0.3399 - val_accuracy: 0.8125\n",
      "Epoch 51/70\n",
      "261/261 [==============================] - 43s 165ms/step - loss: 0.1121 - accuracy: 0.9603 - val_loss: 0.2653 - val_accuracy: 0.9375\n",
      "Epoch 52/70\n",
      "261/261 [==============================] - 43s 163ms/step - loss: 0.1115 - accuracy: 0.9615 - val_loss: 0.3130 - val_accuracy: 0.8125\n",
      "Epoch 53/70\n",
      "261/261 [==============================] - 42s 162ms/step - loss: 0.1108 - accuracy: 0.9609 - val_loss: 0.3179 - val_accuracy: 0.8125\n",
      "Epoch 54/70\n",
      "261/261 [==============================] - 42s 161ms/step - loss: 0.1114 - accuracy: 0.9605 - val_loss: 0.3515 - val_accuracy: 0.8125\n",
      "Epoch 55/70\n",
      "261/261 [==============================] - 43s 164ms/step - loss: 0.1093 - accuracy: 0.9622 - val_loss: 0.3187 - val_accuracy: 0.8125\n",
      "Epoch 56/70\n",
      "261/261 [==============================] - 42s 163ms/step - loss: 0.1092 - accuracy: 0.9626 - val_loss: 0.2668 - val_accuracy: 0.9375\n"
     ]
    },
    {
     "name": "stdout",
     "output_type": "stream",
     "text": [
      "Epoch 57/70\n",
      "261/261 [==============================] - 42s 160ms/step - loss: 0.1088 - accuracy: 0.9618 - val_loss: 0.3601 - val_accuracy: 0.8125\n",
      "Epoch 58/70\n",
      "261/261 [==============================] - 42s 162ms/step - loss: 0.1081 - accuracy: 0.9638 - val_loss: 0.2553 - val_accuracy: 0.9375\n",
      "Epoch 59/70\n",
      "261/261 [==============================] - 42s 161ms/step - loss: 0.1072 - accuracy: 0.9615 - val_loss: 0.2993 - val_accuracy: 0.8750\n",
      "Epoch 60/70\n",
      "261/261 [==============================] - 42s 163ms/step - loss: 0.1063 - accuracy: 0.9632 - val_loss: 0.2846 - val_accuracy: 0.8750\n",
      "Epoch 61/70\n",
      "261/261 [==============================] - 42s 161ms/step - loss: 0.1061 - accuracy: 0.9628 - val_loss: 0.2476 - val_accuracy: 0.9375\n",
      "Epoch 62/70\n",
      "261/261 [==============================] - 42s 163ms/step - loss: 0.1050 - accuracy: 0.9622 - val_loss: 0.2479 - val_accuracy: 0.9375\n",
      "Epoch 63/70\n",
      "261/261 [==============================] - 42s 161ms/step - loss: 0.1056 - accuracy: 0.9620 - val_loss: 0.3013 - val_accuracy: 0.8750\n",
      "Epoch 64/70\n",
      "261/261 [==============================] - 42s 161ms/step - loss: 0.1045 - accuracy: 0.9626 - val_loss: 0.2958 - val_accuracy: 0.8750\n",
      "Epoch 65/70\n",
      "261/261 [==============================] - 42s 162ms/step - loss: 0.1032 - accuracy: 0.9628 - val_loss: 0.3178 - val_accuracy: 0.8125\n",
      "Epoch 66/70\n",
      "261/261 [==============================] - 42s 161ms/step - loss: 0.1029 - accuracy: 0.9651 - val_loss: 0.3984 - val_accuracy: 0.8125\n",
      "Epoch 67/70\n",
      "261/261 [==============================] - 42s 161ms/step - loss: 0.1022 - accuracy: 0.9626 - val_loss: 0.2919 - val_accuracy: 0.8750\n",
      "Epoch 68/70\n",
      "261/261 [==============================] - 42s 161ms/step - loss: 0.1013 - accuracy: 0.9640 - val_loss: 0.2835 - val_accuracy: 0.8750\n",
      "Epoch 69/70\n",
      "261/261 [==============================] - 42s 163ms/step - loss: 0.1012 - accuracy: 0.9640 - val_loss: 0.2910 - val_accuracy: 0.8750\n",
      "Epoch 70/70\n",
      "261/261 [==============================] - 42s 160ms/step - loss: 0.1015 - accuracy: 0.9636 - val_loss: 0.3705 - val_accuracy: 0.8125\n"
     ]
    }
   ],
   "source": [
    "epochs = 70\n",
    "model_fit = model.fit(Train_Data,validation_data = Val_Data, epochs=epochs, batch_size=BATCH_SIZE )"
   ]
  },
  {
   "cell_type": "code",
   "execution_count": 18,
   "id": "b926e6d6",
   "metadata": {},
   "outputs": [
    {
     "name": "stdout",
     "output_type": "stream",
     "text": [
      "dict_keys(['loss', 'accuracy', 'val_loss', 'val_accuracy'])\n"
     ]
    },
    {
     "data": {
      "image/png": "[encoded data removed]",
      "text/plain": [
       "<Figure size 432x288 with 1 Axes>"
      ]
     },
     "metadata": {
      "needs_background": "light"
     },
     "output_type": "display_data"
    },
    {
     "data": {
      "image/png": "[encoded data removed]",
      "text/plain": [
       "<Figure size 432x288 with 1 Axes>"
      ]
     },
     "metadata": {
      "needs_background": "light"
     },
     "output_type": "display_data"
    }
   ],
   "source": [
    "print(model_fit.history.keys())\n",
    "plt.plot(model_fit.history['accuracy'])\n",
    "plt.plot(model_fit.history['val_accuracy'])\n",
    "plt.title('model accuracy')\n",
    "plt.ylabel('accuracy')\n",
    "plt.xlabel('epoch')\n",
    "plt.legend(['train', 'Val'], loc='upper left')\n",
    "plt.show()\n",
    "# summarize history for loss\n",
    "plt.plot(model_fit.history['loss'])\n",
    "plt.plot(model_fit.history['val_loss'])\n",
    "plt.title('model loss')\n",
    "plt.ylabel('loss')\n",
    "plt.xlabel('epoch')\n",
    "plt.legend(['train', 'Val'], loc='upper left')\n",
    "plt.show()"
   ]
  },
  {
   "cell_type": "markdown",
   "id": "5f4b010e",
   "metadata": {},
   "source": [
    "### Section number C"
   ]
  },
  {
   "cell_type": "code",
   "execution_count": 19,
   "id": "db552126",
   "metadata": {},
   "outputs": [],
   "source": [
    "Predictions_First_Model = model.predict(Test_Data) \n",
    "y_Prediction_First = Predictions_First_Model > 0.5\n",
    "y_True_First = Test_Data.classes "
   ]
  },
  {
   "cell_type": "code",
   "execution_count": 20,
   "id": "f53ee5da",
   "metadata": {},
   "outputs": [
    {
     "data": {
      "image/png": "[encoded data removed]",
      "text/plain": [
       "<Figure size 432x288 with 2 Axes>"
      ]
     },
     "metadata": {
      "needs_background": "light"
     },
     "output_type": "display_data"
    }
   ],
   "source": [
    "import seaborn as sns\n",
    "\n",
    "font = {\n",
    "    'family': 'Times New Roman',\n",
    "    'size': 12\n",
    "}\n",
    "plt.rc('font', **font)\n",
    "mat = confusion_matrix(y_True_First, y_Prediction_First)\n",
    "sns.heatmap(mat, annot=True, fmt=\"d\")\n",
    "\n",
    "plt.xlabel(\"Predicted Label\", fontsize= 12)\n",
    "plt.ylabel(\"True Label\", fontsize= 12)\n",
    "\n",
    "plt.show()\n",
    "\n"
   ]
  },
  {
   "cell_type": "code",
   "execution_count": 22,
   "id": "2fb0be2f",
   "metadata": {},
   "outputs": [
    {
     "name": "stdout",
     "output_type": "stream",
     "text": [
      "Recall prob of model is: 0.8589743589743589\n",
      "Precision prob of the model is: 0.6124314442413162\n"
     ]
    }
   ],
   "source": [
    "#Recall = TP / (TP + FN)\n",
    "#precision = TP /(TP + FP)\n",
    "\n",
    "recall = sklearn.metrics.recall_score(y_True_First, y_Prediction_First, pos_label=1)\n",
    "print(\"Recall prob of model is:\" ,recall)\n",
    "\n",
    "precision = sklearn.metrics.precision_score(y_True_First, y_Prediction_First, pos_label=1)\n",
    "print(\"Precision prob of the model is:\" ,precision)"
   ]
  },
  {
   "cell_type": "markdown",
   "id": "9437edfc",
   "metadata": {},
   "source": [
    "### Section number D"
   ]
  },
  {
   "cell_type": "markdown",
   "id": "b436c087",
   "metadata": {},
   "source": [
    "#### Defining a convolution model  - (model 2)"
   ]
  },
  {
   "cell_type": "code",
   "execution_count": 27,
   "id": "34c8470b",
   "metadata": {},
   "outputs": [],
   "source": [
    "tf.keras.backend.clear_session()"
   ]
  },
  {
   "cell_type": "code",
   "execution_count": 23,
   "id": "281015e4",
   "metadata": {},
   "outputs": [
    {
     "name": "stdout",
     "output_type": "stream",
     "text": [
      "Model: \"sequential\"\n",
      "_________________________________________________________________\n",
      " Layer (type)                Output Shape              Param #   \n",
      "=================================================================\n",
      " conv2d (Conv2D)             (None, 224, 224, 32)      320       \n",
      "                                                                 \n",
      " max_pooling2d (MaxPooling2D  (None, 112, 112, 32)     0         \n",
      " )                                                               \n",
      "                                                                 \n",
      " conv2d_1 (Conv2D)           (None, 112, 112, 64)      18496     \n",
      "                                                                 \n",
      " max_pooling2d_1 (MaxPooling  (None, 56, 56, 64)       0         \n",
      " 2D)                                                             \n",
      "                                                                 \n",
      " flatten_1 (Flatten)         (None, 200704)            0         \n",
      "                                                                 \n",
      " dropout (Dropout)           (None, 200704)            0         \n",
      "                                                                 \n",
      " dense (Dense)               (None, 1)                 200705    \n",
      "                                                                 \n",
      "=================================================================\n",
      "Total params: 219,521\n",
      "Trainable params: 219,521\n",
      "Non-trainable params: 0\n",
      "_________________________________________________________________\n"
     ]
    }
   ],
   "source": [
    "num_classes = 1\n",
    "input_shape = (224, 224, 1)\n",
    "epochs = 70\n",
    "\n",
    "SecondMod = keras.Sequential(\n",
    "    [\n",
    "        keras.Input(shape=input_shape),\n",
    "        layers.Conv2D(32, kernel_size=(3, 3), activation=\"relu\", padding = \"same\"),\n",
    "        layers.MaxPooling2D(pool_size=(2, 2)),\n",
    "        layers.Conv2D(64, kernel_size=(3, 3), activation=\"relu\" ,padding = \"same\"),\n",
    "        layers.MaxPooling2D(pool_size=(2, 2)),\n",
    "        layers.Flatten(),\n",
    "        layers.Dropout(0.3),\n",
    "        layers.Dense(num_classes, activation=\"sigmoid\"), #sigmoid is ideal for classification problems\n",
    "    ]\n",
    ")\n",
    "\n",
    "SecondMod.summary()\n"
   ]
  },
  {
   "cell_type": "code",
   "execution_count": 24,
   "id": "cff216d0",
   "metadata": {},
   "outputs": [
    {
     "name": "stdout",
     "output_type": "stream",
     "text": [
      "Epoch 1/70\n",
      "261/261 [==============================] - 150s 573ms/step - loss: 0.2235 - accuracy: 0.9062 - val_loss: 0.5497 - val_accuracy: 0.7500\n",
      "Epoch 2/70\n",
      "261/261 [==============================] - 149s 571ms/step - loss: 0.0966 - accuracy: 0.9636 - val_loss: 0.0972 - val_accuracy: 1.0000\n",
      "Epoch 3/70\n",
      "261/261 [==============================] - 148s 568ms/step - loss: 0.0662 - accuracy: 0.9743 - val_loss: 0.1100 - val_accuracy: 1.0000\n",
      "Epoch 4/70\n",
      "261/261 [==============================] - 148s 568ms/step - loss: 0.0528 - accuracy: 0.9791 - val_loss: 0.0288 - val_accuracy: 1.0000\n",
      "Epoch 5/70\n",
      "261/261 [==============================] - 147s 564ms/step - loss: 0.0422 - accuracy: 0.9847 - val_loss: 0.1299 - val_accuracy: 0.9375\n",
      "Epoch 6/70\n",
      "261/261 [==============================] - 148s 567ms/step - loss: 0.0319 - accuracy: 0.9889 - val_loss: 0.1172 - val_accuracy: 0.9375\n",
      "Epoch 7/70\n",
      "261/261 [==============================] - 149s 571ms/step - loss: 0.0241 - accuracy: 0.9904 - val_loss: 0.0657 - val_accuracy: 1.0000\n",
      "Epoch 8/70\n",
      "261/261 [==============================] - 148s 566ms/step - loss: 0.0132 - accuracy: 0.9958 - val_loss: 0.0945 - val_accuracy: 0.9375\n",
      "Epoch 9/70\n",
      "261/261 [==============================] - 149s 571ms/step - loss: 0.0082 - accuracy: 0.9985 - val_loss: 0.0235 - val_accuracy: 1.0000\n",
      "Epoch 10/70\n",
      "261/261 [==============================] - 151s 577ms/step - loss: 0.0044 - accuracy: 0.9987 - val_loss: 0.1618 - val_accuracy: 0.9375\n",
      "Epoch 11/70\n",
      "261/261 [==============================] - 149s 570ms/step - loss: 0.0040 - accuracy: 0.9992 - val_loss: 0.0919 - val_accuracy: 1.0000\n",
      "Epoch 12/70\n",
      "261/261 [==============================] - 148s 567ms/step - loss: 0.0020 - accuracy: 0.9998 - val_loss: 0.0511 - val_accuracy: 1.0000\n",
      "Epoch 13/70\n",
      "261/261 [==============================] - 149s 568ms/step - loss: 0.0019 - accuracy: 0.9998 - val_loss: 0.3562 - val_accuracy: 0.8125\n",
      "Epoch 14/70\n",
      "261/261 [==============================] - 148s 566ms/step - loss: 0.0110 - accuracy: 0.9967 - val_loss: 0.4033 - val_accuracy: 0.8750\n",
      "Epoch 15/70\n",
      "261/261 [==============================] - 148s 565ms/step - loss: 0.0126 - accuracy: 0.9958 - val_loss: 0.0936 - val_accuracy: 1.0000\n",
      "Epoch 16/70\n",
      "261/261 [==============================] - 147s 561ms/step - loss: 0.0044 - accuracy: 0.9988 - val_loss: 0.0830 - val_accuracy: 0.9375\n",
      "Epoch 17/70\n",
      "261/261 [==============================] - 147s 562ms/step - loss: 6.9729e-04 - accuracy: 1.0000 - val_loss: 0.0437 - val_accuracy: 1.0000\n",
      "Epoch 18/70\n",
      "261/261 [==============================] - 148s 566ms/step - loss: 3.7480e-04 - accuracy: 1.0000 - val_loss: 0.0458 - val_accuracy: 1.0000\n",
      "Epoch 19/70\n",
      "261/261 [==============================] - 148s 568ms/step - loss: 1.9876e-04 - accuracy: 1.0000 - val_loss: 0.0454 - val_accuracy: 1.0000\n",
      "Epoch 20/70\n",
      "261/261 [==============================] - 148s 568ms/step - loss: 1.0306e-04 - accuracy: 1.0000 - val_loss: 0.0326 - val_accuracy: 1.0000\n",
      "Epoch 21/70\n",
      "261/261 [==============================] - 148s 565ms/step - loss: 6.6291e-05 - accuracy: 1.0000 - val_loss: 0.0270 - val_accuracy: 1.0000\n",
      "Epoch 22/70\n",
      "261/261 [==============================] - 148s 567ms/step - loss: 5.3023e-05 - accuracy: 1.0000 - val_loss: 0.0335 - val_accuracy: 1.0000\n",
      "Epoch 23/70\n",
      "261/261 [==============================] - 148s 567ms/step - loss: 3.9708e-05 - accuracy: 1.0000 - val_loss: 0.0226 - val_accuracy: 1.0000\n",
      "Epoch 24/70\n",
      "261/261 [==============================] - 148s 567ms/step - loss: 0.0071 - accuracy: 0.9975 - val_loss: 1.5791 - val_accuracy: 0.6250\n",
      "Epoch 25/70\n",
      "261/261 [==============================] - 145s 555ms/step - loss: 0.0279 - accuracy: 0.9906 - val_loss: 1.4652 - val_accuracy: 0.6875\n",
      "Epoch 26/70\n",
      "261/261 [==============================] - 147s 562ms/step - loss: 0.0117 - accuracy: 0.9960 - val_loss: 0.0953 - val_accuracy: 0.9375\n",
      "Epoch 27/70\n",
      "261/261 [==============================] - 146s 560ms/step - loss: 0.0021 - accuracy: 0.9994 - val_loss: 0.1744 - val_accuracy: 0.9375\n",
      "Epoch 28/70\n",
      "261/261 [==============================] - 146s 557ms/step - loss: 0.0039 - accuracy: 0.9988 - val_loss: 0.1053 - val_accuracy: 0.9375\n",
      "Epoch 29/70\n",
      "261/261 [==============================] - 146s 557ms/step - loss: 4.0696e-04 - accuracy: 1.0000 - val_loss: 0.1208 - val_accuracy: 0.9375\n",
      "Epoch 30/70\n",
      "261/261 [==============================] - 146s 558ms/step - loss: 1.9903e-04 - accuracy: 1.0000 - val_loss: 0.0554 - val_accuracy: 0.9375\n",
      "Epoch 31/70\n",
      "261/261 [==============================] - 147s 560ms/step - loss: 9.3015e-05 - accuracy: 1.0000 - val_loss: 0.0540 - val_accuracy: 0.9375\n",
      "Epoch 32/70\n",
      "261/261 [==============================] - 146s 560ms/step - loss: 7.9798e-05 - accuracy: 1.0000 - val_loss: 0.1291 - val_accuracy: 0.9375\n",
      "Epoch 33/70\n",
      "261/261 [==============================] - 146s 560ms/step - loss: 6.2932e-05 - accuracy: 1.0000 - val_loss: 0.1090 - val_accuracy: 0.9375\n",
      "Epoch 34/70\n",
      "261/261 [==============================] - 147s 561ms/step - loss: 7.1586e-05 - accuracy: 1.0000 - val_loss: 0.0212 - val_accuracy: 1.0000\n",
      "Epoch 35/70\n",
      "261/261 [==============================] - 147s 564ms/step - loss: 3.3158e-05 - accuracy: 1.0000 - val_loss: 0.0546 - val_accuracy: 1.0000\n",
      "Epoch 36/70\n",
      "261/261 [==============================] - 146s 559ms/step - loss: 2.9980e-05 - accuracy: 1.0000 - val_loss: 0.0283 - val_accuracy: 1.0000\n",
      "Epoch 37/70\n",
      "261/261 [==============================] - 149s 572ms/step - loss: 1.7461e-05 - accuracy: 1.0000 - val_loss: 0.0496 - val_accuracy: 1.0000\n",
      "Epoch 38/70\n",
      "261/261 [==============================] - 149s 569ms/step - loss: 2.0058e-05 - accuracy: 1.0000 - val_loss: 0.0496 - val_accuracy: 1.0000\n",
      "Epoch 39/70\n",
      "261/261 [==============================] - 192s 736ms/step - loss: 1.9576e-05 - accuracy: 1.0000 - val_loss: 0.0327 - val_accuracy: 1.0000\n",
      "Epoch 40/70\n",
      "261/261 [==============================] - 207s 790ms/step - loss: 1.9289e-05 - accuracy: 1.0000 - val_loss: 0.0244 - val_accuracy: 1.0000\n",
      "Epoch 41/70\n",
      "261/261 [==============================] - 206s 789ms/step - loss: 1.3381e-05 - accuracy: 1.0000 - val_loss: 0.0261 - val_accuracy: 1.0000\n",
      "Epoch 42/70\n",
      "261/261 [==============================] - 205s 784ms/step - loss: 1.0298e-05 - accuracy: 1.0000 - val_loss: 0.0491 - val_accuracy: 1.0000\n",
      "Epoch 43/70\n",
      "261/261 [==============================] - 206s 787ms/step - loss: 9.9969e-06 - accuracy: 1.0000 - val_loss: 0.0161 - val_accuracy: 1.0000\n",
      "Epoch 44/70\n",
      "261/261 [==============================] - 205s 784ms/step - loss: 7.3049e-06 - accuracy: 1.0000 - val_loss: 0.0369 - val_accuracy: 1.0000\n",
      "Epoch 45/70\n",
      "261/261 [==============================] - 204s 781ms/step - loss: 9.8617e-06 - accuracy: 1.0000 - val_loss: 0.0344 - val_accuracy: 1.0000\n",
      "Epoch 46/70\n",
      "261/261 [==============================] - 199s 762ms/step - loss: 6.9065e-06 - accuracy: 1.0000 - val_loss: 0.0167 - val_accuracy: 1.0000\n",
      "Epoch 47/70\n",
      "261/261 [==============================] - 212s 810ms/step - loss: 6.4138e-06 - accuracy: 1.0000 - val_loss: 0.0270 - val_accuracy: 1.0000\n",
      "Epoch 48/70\n",
      "261/261 [==============================] - 208s 796ms/step - loss: 8.2962e-06 - accuracy: 1.0000 - val_loss: 0.0175 - val_accuracy: 1.0000\n",
      "Epoch 49/70\n",
      "261/261 [==============================] - 206s 790ms/step - loss: 1.2782e-05 - accuracy: 1.0000 - val_loss: 0.0196 - val_accuracy: 1.0000\n",
      "Epoch 50/70\n",
      "261/261 [==============================] - 207s 792ms/step - loss: 4.5918e-06 - accuracy: 1.0000 - val_loss: 0.0706 - val_accuracy: 0.9375\n",
      "Epoch 51/70\n",
      "261/261 [==============================] - 209s 797ms/step - loss: 5.2346e-06 - accuracy: 1.0000 - val_loss: 0.0917 - val_accuracy: 0.9375\n",
      "Epoch 52/70\n",
      "261/261 [==============================] - 207s 791ms/step - loss: 6.4786e-06 - accuracy: 1.0000 - val_loss: 0.1754 - val_accuracy: 0.8750\n",
      "Epoch 53/70\n",
      "261/261 [==============================] - 206s 788ms/step - loss: 8.7073e-06 - accuracy: 1.0000 - val_loss: 0.0119 - val_accuracy: 1.0000\n",
      "Epoch 54/70\n",
      "261/261 [==============================] - 208s 793ms/step - loss: 2.7874e-06 - accuracy: 1.0000 - val_loss: 0.0079 - val_accuracy: 1.0000\n",
      "Epoch 55/70\n",
      "261/261 [==============================] - 205s 784ms/step - loss: 0.0358 - accuracy: 0.9902 - val_loss: 0.3191 - val_accuracy: 0.8750\n"
     ]
    },
    {
     "name": "stdout",
     "output_type": "stream",
     "text": [
      "Epoch 56/70\n",
      "261/261 [==============================] - 204s 781ms/step - loss: 0.0103 - accuracy: 0.9964 - val_loss: 0.0267 - val_accuracy: 1.0000\n",
      "Epoch 57/70\n",
      "261/261 [==============================] - 205s 786ms/step - loss: 0.0012 - accuracy: 0.9994 - val_loss: 0.0225 - val_accuracy: 1.0000\n",
      "Epoch 58/70\n",
      "261/261 [==============================] - 205s 785ms/step - loss: 0.0015 - accuracy: 0.9996 - val_loss: 0.0196 - val_accuracy: 1.0000\n",
      "Epoch 59/70\n",
      "261/261 [==============================] - 205s 782ms/step - loss: 2.4072e-04 - accuracy: 1.0000 - val_loss: 0.0341 - val_accuracy: 1.0000\n",
      "Epoch 60/70\n",
      "261/261 [==============================] - 207s 790ms/step - loss: 8.0212e-05 - accuracy: 1.0000 - val_loss: 0.0194 - val_accuracy: 1.0000\n",
      "Epoch 61/70\n",
      "261/261 [==============================] - 205s 784ms/step - loss: 1.7296e-04 - accuracy: 1.0000 - val_loss: 0.0355 - val_accuracy: 1.0000\n",
      "Epoch 62/70\n",
      "261/261 [==============================] - 207s 793ms/step - loss: 6.2607e-05 - accuracy: 1.0000 - val_loss: 0.0483 - val_accuracy: 1.0000\n",
      "Epoch 63/70\n",
      "261/261 [==============================] - 210s 802ms/step - loss: 1.8234e-05 - accuracy: 1.0000 - val_loss: 0.0278 - val_accuracy: 1.0000\n",
      "Epoch 64/70\n",
      "261/261 [==============================] - 206s 788ms/step - loss: 2.9889e-05 - accuracy: 1.0000 - val_loss: 0.0258 - val_accuracy: 1.0000\n",
      "Epoch 65/70\n",
      "261/261 [==============================] - 208s 794ms/step - loss: 4.1063e-05 - accuracy: 1.0000 - val_loss: 0.0591 - val_accuracy: 0.9375\n",
      "Epoch 66/70\n",
      "261/261 [==============================] - 207s 791ms/step - loss: 1.6134e-05 - accuracy: 1.0000 - val_loss: 0.0219 - val_accuracy: 1.0000\n",
      "Epoch 67/70\n",
      "261/261 [==============================] - 206s 787ms/step - loss: 1.4961e-05 - accuracy: 1.0000 - val_loss: 0.0432 - val_accuracy: 1.0000\n",
      "Epoch 68/70\n",
      "261/261 [==============================] - 207s 790ms/step - loss: 1.5294e-05 - accuracy: 1.0000 - val_loss: 0.0885 - val_accuracy: 0.9375\n",
      "Epoch 69/70\n",
      "261/261 [==============================] - 207s 793ms/step - loss: 1.1990e-05 - accuracy: 1.0000 - val_loss: 0.0468 - val_accuracy: 1.0000\n",
      "Epoch 70/70\n",
      "261/261 [==============================] - 198s 758ms/step - loss: 7.1553e-06 - accuracy: 1.0000 - val_loss: 0.0352 - val_accuracy: 1.0000\n"
     ]
    }
   ],
   "source": [
    "# we use binary labels thus we need loss with binarycrosstropy\n",
    "    \n",
    "SecondMod.compile(loss='binary_crossentropy', optimizer = Adam(learning_rate=1e-6), metrics=['accuracy'])\n",
    "\n",
    "SecondMod_Fit = SecondMod.fit(Train_Data,validation_data = Val_Data, epochs = epochs ,batch_size = BATCH_SIZE)"
   ]
  },
  {
   "cell_type": "code",
   "execution_count": 25,
   "id": "8995f87a",
   "metadata": {},
   "outputs": [
    {
     "name": "stdout",
     "output_type": "stream",
     "text": [
      "dict_keys(['loss', 'accuracy', 'val_loss', 'val_accuracy'])\n"
     ]
    },
    {
     "data": {
      "image/png": "[encoded data removed]",
      "text/plain": [
       "<Figure size 432x288 with 1 Axes>"
      ]
     },
     "metadata": {
      "needs_background": "light"
     },
     "output_type": "display_data"
    },
    {
     "data": {
      "image/png": "[encoded data removed]",
      "text/plain": [
       "<Figure size 432x288 with 1 Axes>"
      ]
     },
     "metadata": {
      "needs_background": "light"
     },
     "output_type": "display_data"
    }
   ],
   "source": [
    "print(SecondMod_Fit.history.keys())\n",
    "plt.plot(SecondMod_Fit.history['accuracy'])\n",
    "plt.plot(SecondMod_Fit.history['val_accuracy'])\n",
    "plt.title('model accuracy')\n",
    "plt.ylabel('accuracy')\n",
    "plt.xlabel('epoch')\n",
    "plt.legend(['train', 'Val'], loc='upper left')\n",
    "plt.show()\n",
    "\n",
    "\n",
    "# summarize history for loss\n",
    "\n",
    "plt.plot(SecondMod_Fit.history['loss'])\n",
    "plt.plot(SecondMod_Fit.history['val_loss'])\n",
    "plt.title('model loss')\n",
    "plt.ylabel('loss')\n",
    "plt.xlabel('epoch')\n",
    "plt.legend(['train', 'Val'], loc='upper left')\n",
    "plt.show()"
   ]
  },
  {
   "cell_type": "code",
   "execution_count": 26,
   "id": "de50f2c2",
   "metadata": {},
   "outputs": [
    {
     "data": {
      "image/png": "[encoded data removed]",
      "text/plain": [
       "<Figure size 432x288 with 2 Axes>"
      ]
     },
     "metadata": {
      "needs_background": "light"
     },
     "output_type": "display_data"
    }
   ],
   "source": [
    "SecondMod_Prediction = SecondMod.predict(Test_Data) \n",
    "y_Prediction_Second = SecondMod_Prediction > 0.5\n",
    "y_True_Second = Test_Data.classes \n",
    "\n",
    "import seaborn as sns\n",
    "\n",
    "font = {\n",
    "    'family': 'Times New Roman',\n",
    "    'size': 12\n",
    "}\n",
    "plt.rc('font', **font)\n",
    "mat = confusion_matrix(y_True_Second, y_Prediction_Second)\n",
    "sns.heatmap(mat, annot=True, fmt=\"d\")\n",
    "\n",
    "plt.xlabel(\"Predicted Label\", fontsize= 12)\n",
    "plt.ylabel(\"True Label\", fontsize= 12)\n",
    "\n",
    "plt.show()"
   ]
  },
  {
   "cell_type": "code",
   "execution_count": 28,
   "id": "f896270b",
   "metadata": {},
   "outputs": [
    {
     "name": "stdout",
     "output_type": "stream",
     "text": [
      " The recall of model is: 0.9\n",
      "The precision of the model is: 0.6381818181818182\n"
     ]
    }
   ],
   "source": [
    "import sklearn.metrics\n",
    "\n",
    "recall = sklearn.metrics.recall_score(y_True_Second, y_Prediction_Second, pos_label=1)\n",
    "print(\" The recall of model is:\" ,recall)\n",
    "\n",
    "precision = sklearn.metrics.precision_score(y_True_Second, y_Prediction_Second, pos_label=1)\n",
    "print(\"The precision of the model is:\" ,precision)"
   ]
  },
  {
   "cell_type": "markdown",
   "id": "a70b1040",
   "metadata": {},
   "source": [
    "### Section number D - section B"
   ]
  },
  {
   "cell_type": "markdown",
   "id": "33468ec8",
   "metadata": {},
   "source": [
    "### Define Data Augmantation "
   ]
  },
  {
   "cell_type": "code",
   "execution_count": 29,
   "id": "c46ab6a9",
   "metadata": {},
   "outputs": [],
   "source": [
    "#define image size and rescaling\n",
    "\n",
    "IMG_SIZE = 224\n",
    "\n",
    "resize_and_rescale = tf.keras.Sequential([\n",
    "  layers.Resizing(IMG_SIZE, IMG_SIZE),\n",
    "  layers.Rescaling(1./255)\n",
    "])"
   ]
  },
  {
   "cell_type": "code",
   "execution_count": 30,
   "id": "c928aea1",
   "metadata": {},
   "outputs": [],
   "source": [
    "data_augmentation = keras.Sequential(\n",
    "  [\n",
    "    layers.experimental.preprocessing.RandomFlip(\"horizontal\", \n",
    "                                                 input_shape=(224, \n",
    "                                                              224,\n",
    "                                                              1)),\n",
    "    layers.experimental.preprocessing.RandomRotation(0.2), #make our dataset bigger by choosing different random rotation\n",
    "    layers.experimental.preprocessing.RandomZoom(0.2), # same with random zooms\n",
    "  ]\n",
    ")"
   ]
  },
  {
   "cell_type": "code",
   "execution_count": null,
   "id": "2077a2ed",
   "metadata": {},
   "outputs": [
    {
     "name": "stdout",
     "output_type": "stream",
     "text": [
      "Epoch 1/70\n",
      "261/261 [==============================] - 166s 631ms/step - loss: 0.4554 - accuracy: 0.7920 - val_loss: 0.6630 - val_accuracy: 0.6250\n",
      "Epoch 2/70\n",
      "261/261 [==============================] - 167s 638ms/step - loss: 0.3142 - accuracy: 0.8650 - val_loss: 0.7074 - val_accuracy: 0.6250\n",
      "Epoch 3/70\n",
      "261/261 [==============================] - 162s 618ms/step - loss: 0.2638 - accuracy: 0.8917 - val_loss: 0.7483 - val_accuracy: 0.6250\n",
      "Epoch 4/70\n",
      "261/261 [==============================] - 171s 653ms/step - loss: 0.2530 - accuracy: 0.8936 - val_loss: 0.8676 - val_accuracy: 0.6250\n",
      "Epoch 5/70\n",
      "261/261 [==============================] - 163s 623ms/step - loss: 0.2443 - accuracy: 0.9005 - val_loss: 0.5177 - val_accuracy: 0.8125\n",
      "Epoch 6/70\n",
      "261/261 [==============================] - 162s 621ms/step - loss: 0.2475 - accuracy: 0.8957 - val_loss: 0.6258 - val_accuracy: 0.6875\n",
      "Epoch 7/70\n",
      "261/261 [==============================] - 163s 624ms/step - loss: 0.2341 - accuracy: 0.9020 - val_loss: 0.4885 - val_accuracy: 0.8750\n",
      "Epoch 8/70\n",
      "261/261 [==============================] - 163s 625ms/step - loss: 0.2337 - accuracy: 0.8995 - val_loss: 0.6659 - val_accuracy: 0.6875\n",
      "Epoch 9/70\n",
      "261/261 [==============================] - 164s 627ms/step - loss: 0.2167 - accuracy: 0.9122 - val_loss: 1.1762 - val_accuracy: 0.6250\n",
      "Epoch 10/70\n",
      "261/261 [==============================] - 165s 630ms/step - loss: 0.2120 - accuracy: 0.9135 - val_loss: 0.6517 - val_accuracy: 0.8125\n",
      "Epoch 11/70\n",
      "261/261 [==============================] - 162s 620ms/step - loss: 0.2152 - accuracy: 0.9118 - val_loss: 0.6511 - val_accuracy: 0.8125\n",
      "Epoch 12/70\n",
      "261/261 [==============================] - 154s 591ms/step - loss: 0.1977 - accuracy: 0.9195 - val_loss: 0.4944 - val_accuracy: 0.8125\n",
      "Epoch 13/70\n",
      "261/261 [==============================] - 123s 469ms/step - loss: 0.2004 - accuracy: 0.9174 - val_loss: 0.6689 - val_accuracy: 0.8125\n",
      "Epoch 14/70\n",
      "261/261 [==============================] - 122s 468ms/step - loss: 0.2093 - accuracy: 0.9189 - val_loss: 0.9003 - val_accuracy: 0.6875\n",
      "Epoch 15/70\n",
      "261/261 [==============================] - 122s 465ms/step - loss: 0.1919 - accuracy: 0.9241 - val_loss: 0.5422 - val_accuracy: 0.8125\n",
      "Epoch 16/70\n",
      "261/261 [==============================] - 122s 466ms/step - loss: 0.1869 - accuracy: 0.9304 - val_loss: 0.6995 - val_accuracy: 0.8125\n",
      "Epoch 17/70\n",
      "261/261 [==============================] - 120s 461ms/step - loss: 0.1891 - accuracy: 0.9291 - val_loss: 0.5600 - val_accuracy: 0.7500\n",
      "Epoch 18/70\n",
      "261/261 [==============================] - 119s 457ms/step - loss: 0.1962 - accuracy: 0.9183 - val_loss: 0.8844 - val_accuracy: 0.6875\n",
      "Epoch 19/70\n",
      "261/261 [==============================] - 119s 457ms/step - loss: 0.1818 - accuracy: 0.9312 - val_loss: 0.6149 - val_accuracy: 0.8125\n",
      "Epoch 20/70\n",
      "261/261 [==============================] - 119s 457ms/step - loss: 0.1766 - accuracy: 0.9287 - val_loss: 0.8835 - val_accuracy: 0.6875\n",
      "Epoch 21/70\n",
      "261/261 [==============================] - 120s 458ms/step - loss: 0.1792 - accuracy: 0.9308 - val_loss: 0.9057 - val_accuracy: 0.6875\n",
      "Epoch 22/70\n",
      "261/261 [==============================] - 120s 460ms/step - loss: 0.1783 - accuracy: 0.9321 - val_loss: 0.5406 - val_accuracy: 0.8125\n",
      "Epoch 23/70\n",
      "261/261 [==============================] - 120s 458ms/step - loss: 0.1713 - accuracy: 0.9337 - val_loss: 0.5561 - val_accuracy: 0.8125\n",
      "Epoch 24/70\n",
      "261/261 [==============================] - 120s 461ms/step - loss: 0.1704 - accuracy: 0.9373 - val_loss: 0.7276 - val_accuracy: 0.8125\n",
      "Epoch 25/70\n",
      "261/261 [==============================] - 120s 458ms/step - loss: 0.1776 - accuracy: 0.9312 - val_loss: 1.3225 - val_accuracy: 0.6250\n",
      "Epoch 26/70\n",
      "261/261 [==============================] - 122s 466ms/step - loss: 0.1715 - accuracy: 0.9331 - val_loss: 0.7026 - val_accuracy: 0.8125\n",
      "Epoch 27/70\n",
      "261/261 [==============================] - 121s 463ms/step - loss: 0.1638 - accuracy: 0.9388 - val_loss: 0.6571 - val_accuracy: 0.8125\n",
      "Epoch 28/70\n",
      "261/261 [==============================] - 119s 457ms/step - loss: 0.1570 - accuracy: 0.9421 - val_loss: 0.7041 - val_accuracy: 0.8125\n",
      "Epoch 29/70\n",
      "261/261 [==============================] - 119s 456ms/step - loss: 0.1606 - accuracy: 0.9377 - val_loss: 1.1009 - val_accuracy: 0.6250\n",
      "Epoch 30/70\n",
      "261/261 [==============================] - 119s 456ms/step - loss: 0.1508 - accuracy: 0.9425 - val_loss: 0.9956 - val_accuracy: 0.6875\n",
      "Epoch 31/70\n",
      "261/261 [==============================] - 121s 461ms/step - loss: 0.1578 - accuracy: 0.9421 - val_loss: 1.1319 - val_accuracy: 0.6875\n",
      "Epoch 32/70\n",
      "261/261 [==============================] - 127s 485ms/step - loss: 0.1551 - accuracy: 0.9402 - val_loss: 0.5600 - val_accuracy: 0.8125\n",
      "Epoch 33/70\n",
      "261/261 [==============================] - 131s 503ms/step - loss: 0.1485 - accuracy: 0.9444 - val_loss: 0.6364 - val_accuracy: 0.8125\n",
      "Epoch 34/70\n",
      "261/261 [==============================] - 130s 497ms/step - loss: 0.1494 - accuracy: 0.9448 - val_loss: 0.7179 - val_accuracy: 0.7500\n",
      "Epoch 35/70\n",
      "261/261 [==============================] - 130s 497ms/step - loss: 0.1492 - accuracy: 0.9440 - val_loss: 0.4788 - val_accuracy: 0.8125\n",
      "Epoch 36/70\n",
      "261/261 [==============================] - 132s 505ms/step - loss: 0.1471 - accuracy: 0.9465 - val_loss: 0.7207 - val_accuracy: 0.6875\n",
      "Epoch 37/70\n",
      "191/261 [====================>.........] - ETA: 38s - loss: 0.1389 - accuracy: 0.9515"
     ]
    }
   ],
   "source": [
    "num_classes = 2\n",
    "epochs = 70\n",
    "\n",
    "Third_Model_CNN_Aug = Sequential([\n",
    "  data_augmentation,\n",
    "  layers.Conv2D(16, 3, padding='same', activation='relu'), # define the layers with augmentation\n",
    "  layers.MaxPooling2D(),\n",
    "  layers.Conv2D(32, 3, padding='same', activation='relu'),\n",
    "  layers.MaxPooling2D(),\n",
    "  layers.Conv2D(64, 3, padding='same', activation='relu'),\n",
    "  layers.MaxPooling2D(),\n",
    "  layers.Dropout(0.4),\n",
    "  layers.Flatten(),\n",
    "  layers.Dense(128, activation='sigmoid'),\n",
    "  layers.Dense(num_classes)\n",
    "])\n",
    "\n",
    "Third_Model_CNN_Aug.compile(optimizer = Adam(learning_rate=1e-4),\n",
    "              loss=tf.keras.losses.SparseCategoricalCrossentropy(from_logits=True),\n",
    "              metrics=['accuracy'])\n",
    "              \n",
    "Third_Model_CNN_Aug_Fit=Third_Model_CNN_Aug.fit(Train_Data,validation_data = Val_Data, epochs=epochs, batch_size=BATCH_SIZE)  "
   ]
  },
  {
   "cell_type": "code",
   "execution_count": null,
   "id": "263f1bae",
   "metadata": {
    "scrolled": true
   },
   "outputs": [],
   "source": [
    "print(Third_Model_CNN_Aug_Fit.history.keys())\n",
    "plt.plot(Third_Model_CNN_Aug_Fit.history['accuracy'])\n",
    "plt.plot(Third_Model_CNN_Aug_Fit.history['val_accuracy'])\n",
    "plt.title('model accuracy')\n",
    "plt.ylabel('accuracy')\n",
    "plt.xlabel('epoch')\n",
    "plt.legend(['train', 'Val'], loc='upper left')\n",
    "plt.show()\n",
    "\n",
    "# summarize history for loss\n",
    "\n",
    "plt.plot(Third_Model_CNN_Aug_Fit.history['loss'])\n",
    "plt.plot(Third_Model_CNN_Aug_Fit.history['val_loss'])\n",
    "plt.title('model loss')\n",
    "plt.ylabel('loss')\n",
    "plt.xlabel('epoch')\n",
    "plt.legend(['train', 'Val'], loc='upper left')\n",
    "plt.show()"
   ]
  },
  {
   "cell_type": "markdown",
   "id": "0266e072",
   "metadata": {},
   "source": [
    "## Section E - changing the learning rate of Second Model from 1e-3 ==> 1e-5"
   ]
  },
  {
   "cell_type": "code",
   "execution_count": null,
   "id": "706995e6",
   "metadata": {},
   "outputs": [],
   "source": [
    "tf.keras.backend.clear_session()\n",
    "num_classes = 1\n",
    "input_shape = (224, 224, 1)\n",
    "epochs = 70\n",
    "\n",
    "SecondMod = keras.Sequential(\n",
    "    [\n",
    "        keras.Input(shape=input_shape),\n",
    "        layers.Conv2D(32, kernel_size=(3, 3), activation=\"relu\", padding = \"same\"),\n",
    "        layers.MaxPooling2D(pool_size=(2, 2)),\n",
    "        layers.Conv2D(64, kernel_size=(3, 3), activation=\"relu\" ,padding = \"same\"),\n",
    "        layers.MaxPooling2D(pool_size=(2, 2)),\n",
    "        layers.Flatten(),\n",
    "        layers.Dropout(0.3),\n",
    "        layers.Dense(num_classes, activation=\"sigmoid\"), #sigmoid is ideal for classification problems\n",
    "    ]\n",
    ")\n",
    "\n",
    "SecondMod.summary()\n"
   ]
  },
  {
   "cell_type": "code",
   "execution_count": null,
   "id": "177df7fa",
   "metadata": {},
   "outputs": [],
   "source": [
    "SecondMod.compile(loss='binary_crossentropy', optimizer = Adam(learning_rate=1e-5), metrics=['accuracy'])\n",
    "\n",
    "SecondMod_Fit = SecondMod.fit(Train_Data,validation_data = Val_Data, epochs = epochs ,batch_size = BATCH_SIZE)\n"
   ]
  },
  {
   "cell_type": "code",
   "execution_count": null,
   "id": "ed24708a",
   "metadata": {},
   "outputs": [],
   "source": [
    "print(SecondMod_Fit.history.keys())\n",
    "plt.plot(SecondMod_Fit.history['accuracy'])\n",
    "plt.plot(SecondMod_Fit.history['val_accuracy'])\n",
    "plt.title('model accuracy')\n",
    "plt.ylabel('accuracy')\n",
    "plt.xlabel('epoch')\n",
    "plt.legend(['train', 'Val'], loc='upper left')\n",
    "plt.show()\n",
    "\n",
    "\n",
    "# summarize history for loss\n",
    "\n",
    "plt.plot(SecondMod_Fit.history['loss'])\n",
    "plt.plot(SecondMod_Fit.history['val_loss'])\n",
    "plt.title('model loss')\n",
    "plt.ylabel('loss')\n",
    "plt.xlabel('epoch')\n",
    "plt.legend(['train', 'Val'], loc='upper left')\n",
    "plt.show()"
   ]
  },
  {
   "cell_type": "code",
   "execution_count": null,
   "id": "5b06f5b7",
   "metadata": {},
   "outputs": [],
   "source": [
    "\n",
    "SecondMod_Prediction = SecondMod.predict(Test_Data) \n",
    "y_Prediction_Second = SecondMod_Prediction > 0.5\n",
    "y_True_Second = Test_Data.classes \n",
    "\n",
    "import seaborn as sns\n",
    "\n",
    "font = {\n",
    "    'family': 'Times New Roman',\n",
    "    'size': 12\n",
    "}\n",
    "plt.rc('font', **font)\n",
    "mat = confusion_matrix(y_True_Second, y_Prediction_Second)\n",
    "sns.heatmap(mat, annot=True, fmt=\"d\")\n",
    "\n",
    "plt.xlabel(\"Predicted Label\", fontsize= 12)\n",
    "plt.ylabel(\"True Label\", fontsize= 12)\n",
    "\n",
    "plt.show()\n",
    "\n"
   ]
  }
 ],
 "metadata": {
  "celltoolbar": "Raw Cell Format",
  "kernelspec": {
   "display_name": "Python 3 (ipykernel)",
   "language": "python",
   "name": "python3"
  },
  "language_info": {
   "codemirror_mode": {
    "name": "ipython",
    "version": 3
   },
   "file_extension": ".py",
   "mimetype": "text/x-python",
   "name": "python",
   "nbconvert_exporter": "python",
   "pygments_lexer": "ipython3",
   "version": "3.9.7"
  }
 },
 "nbformat": 4,
 "nbformat_minor": 5
}
